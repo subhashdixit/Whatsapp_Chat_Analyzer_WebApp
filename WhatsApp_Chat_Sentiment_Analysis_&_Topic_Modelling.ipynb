{
  "nbformat": 4,
  "nbformat_minor": 0,
  "metadata": {
    "colab": {
      "provenance": [],
      "collapsed_sections": [
        "DyD0tTt_xIGH",
        "v9I94dQa2Yaq",
        "aI6WScH4jG53"
      ]
    },
    "kernelspec": {
      "name": "python3",
      "display_name": "Python 3"
    },
    "language_info": {
      "name": "python"
    }
  },
  "cells": [
    {
      "cell_type": "code",
      "source": [
        "!pip install emoji"
      ],
      "metadata": {
        "id": "VKBJSw_H9U9B",
        "colab": {
          "base_uri": "https://localhost:8080/"
        },
        "outputId": "2b78f892-e7e3-488a-b5c2-99d310487155"
      },
      "execution_count": 207,
      "outputs": [
        {
          "output_type": "stream",
          "name": "stdout",
          "text": [
            "Looking in indexes: https://pypi.org/simple, https://us-python.pkg.dev/colab-wheels/public/simple/\n",
            "Requirement already satisfied: emoji in /usr/local/lib/python3.8/dist-packages (2.2.0)\n"
          ]
        }
      ]
    },
    {
      "cell_type": "code",
      "execution_count": 208,
      "metadata": {
        "id": "6mdTUFl77PAt",
        "colab": {
          "base_uri": "https://localhost:8080/"
        },
        "outputId": "58fd1fce-afd2-4d66-b3db-dfa2abf0216a"
      },
      "outputs": [
        {
          "output_type": "stream",
          "name": "stderr",
          "text": [
            "[nltk_data] Downloading collection 'all'\n",
            "[nltk_data]    | \n",
            "[nltk_data]    | Downloading package abc to /root/nltk_data...\n",
            "[nltk_data]    |   Package abc is already up-to-date!\n",
            "[nltk_data]    | Downloading package alpino to /root/nltk_data...\n",
            "[nltk_data]    |   Package alpino is already up-to-date!\n",
            "[nltk_data]    | Downloading package averaged_perceptron_tagger to\n",
            "[nltk_data]    |     /root/nltk_data...\n",
            "[nltk_data]    |   Package averaged_perceptron_tagger is already up-\n",
            "[nltk_data]    |       to-date!\n",
            "[nltk_data]    | Downloading package averaged_perceptron_tagger_ru to\n",
            "[nltk_data]    |     /root/nltk_data...\n",
            "[nltk_data]    |   Package averaged_perceptron_tagger_ru is already\n",
            "[nltk_data]    |       up-to-date!\n",
            "[nltk_data]    | Downloading package basque_grammars to\n",
            "[nltk_data]    |     /root/nltk_data...\n",
            "[nltk_data]    |   Package basque_grammars is already up-to-date!\n",
            "[nltk_data]    | Downloading package bcp47 to /root/nltk_data...\n",
            "[nltk_data]    |   Package bcp47 is already up-to-date!\n",
            "[nltk_data]    | Downloading package biocreative_ppi to\n",
            "[nltk_data]    |     /root/nltk_data...\n",
            "[nltk_data]    |   Package biocreative_ppi is already up-to-date!\n",
            "[nltk_data]    | Downloading package bllip_wsj_no_aux to\n",
            "[nltk_data]    |     /root/nltk_data...\n",
            "[nltk_data]    |   Package bllip_wsj_no_aux is already up-to-date!\n",
            "[nltk_data]    | Downloading package book_grammars to\n",
            "[nltk_data]    |     /root/nltk_data...\n",
            "[nltk_data]    |   Package book_grammars is already up-to-date!\n",
            "[nltk_data]    | Downloading package brown to /root/nltk_data...\n",
            "[nltk_data]    |   Package brown is already up-to-date!\n",
            "[nltk_data]    | Downloading package brown_tei to /root/nltk_data...\n",
            "[nltk_data]    |   Package brown_tei is already up-to-date!\n",
            "[nltk_data]    | Downloading package cess_cat to /root/nltk_data...\n",
            "[nltk_data]    |   Package cess_cat is already up-to-date!\n",
            "[nltk_data]    | Downloading package cess_esp to /root/nltk_data...\n",
            "[nltk_data]    |   Package cess_esp is already up-to-date!\n",
            "[nltk_data]    | Downloading package chat80 to /root/nltk_data...\n",
            "[nltk_data]    |   Package chat80 is already up-to-date!\n",
            "[nltk_data]    | Downloading package city_database to\n",
            "[nltk_data]    |     /root/nltk_data...\n",
            "[nltk_data]    |   Package city_database is already up-to-date!\n",
            "[nltk_data]    | Downloading package cmudict to /root/nltk_data...\n",
            "[nltk_data]    |   Package cmudict is already up-to-date!\n",
            "[nltk_data]    | Downloading package comparative_sentences to\n",
            "[nltk_data]    |     /root/nltk_data...\n",
            "[nltk_data]    |   Package comparative_sentences is already up-to-\n",
            "[nltk_data]    |       date!\n",
            "[nltk_data]    | Downloading package comtrans to /root/nltk_data...\n",
            "[nltk_data]    |   Package comtrans is already up-to-date!\n",
            "[nltk_data]    | Downloading package conll2000 to /root/nltk_data...\n",
            "[nltk_data]    |   Package conll2000 is already up-to-date!\n",
            "[nltk_data]    | Downloading package conll2002 to /root/nltk_data...\n",
            "[nltk_data]    |   Package conll2002 is already up-to-date!\n",
            "[nltk_data]    | Downloading package conll2007 to /root/nltk_data...\n",
            "[nltk_data]    |   Package conll2007 is already up-to-date!\n",
            "[nltk_data]    | Downloading package crubadan to /root/nltk_data...\n",
            "[nltk_data]    |   Package crubadan is already up-to-date!\n",
            "[nltk_data]    | Downloading package dependency_treebank to\n",
            "[nltk_data]    |     /root/nltk_data...\n",
            "[nltk_data]    |   Package dependency_treebank is already up-to-date!\n",
            "[nltk_data]    | Downloading package dolch to /root/nltk_data...\n",
            "[nltk_data]    |   Package dolch is already up-to-date!\n",
            "[nltk_data]    | Downloading package europarl_raw to\n",
            "[nltk_data]    |     /root/nltk_data...\n",
            "[nltk_data]    |   Package europarl_raw is already up-to-date!\n",
            "[nltk_data]    | Downloading package extended_omw to\n",
            "[nltk_data]    |     /root/nltk_data...\n",
            "[nltk_data]    |   Package extended_omw is already up-to-date!\n",
            "[nltk_data]    | Downloading package floresta to /root/nltk_data...\n",
            "[nltk_data]    |   Package floresta is already up-to-date!\n",
            "[nltk_data]    | Downloading package framenet_v15 to\n",
            "[nltk_data]    |     /root/nltk_data...\n",
            "[nltk_data]    |   Package framenet_v15 is already up-to-date!\n",
            "[nltk_data]    | Downloading package framenet_v17 to\n",
            "[nltk_data]    |     /root/nltk_data...\n",
            "[nltk_data]    |   Package framenet_v17 is already up-to-date!\n",
            "[nltk_data]    | Downloading package gazetteers to /root/nltk_data...\n",
            "[nltk_data]    |   Package gazetteers is already up-to-date!\n",
            "[nltk_data]    | Downloading package genesis to /root/nltk_data...\n",
            "[nltk_data]    |   Package genesis is already up-to-date!\n",
            "[nltk_data]    | Downloading package gutenberg to /root/nltk_data...\n",
            "[nltk_data]    |   Package gutenberg is already up-to-date!\n",
            "[nltk_data]    | Downloading package ieer to /root/nltk_data...\n",
            "[nltk_data]    |   Package ieer is already up-to-date!\n",
            "[nltk_data]    | Downloading package inaugural to /root/nltk_data...\n",
            "[nltk_data]    |   Package inaugural is already up-to-date!\n",
            "[nltk_data]    | Downloading package indian to /root/nltk_data...\n",
            "[nltk_data]    |   Package indian is already up-to-date!\n",
            "[nltk_data]    | Downloading package jeita to /root/nltk_data...\n",
            "[nltk_data]    |   Package jeita is already up-to-date!\n",
            "[nltk_data]    | Downloading package kimmo to /root/nltk_data...\n",
            "[nltk_data]    |   Package kimmo is already up-to-date!\n",
            "[nltk_data]    | Downloading package knbc to /root/nltk_data...\n",
            "[nltk_data]    |   Package knbc is already up-to-date!\n",
            "[nltk_data]    | Downloading package large_grammars to\n",
            "[nltk_data]    |     /root/nltk_data...\n",
            "[nltk_data]    |   Package large_grammars is already up-to-date!\n",
            "[nltk_data]    | Downloading package lin_thesaurus to\n",
            "[nltk_data]    |     /root/nltk_data...\n",
            "[nltk_data]    |   Package lin_thesaurus is already up-to-date!\n",
            "[nltk_data]    | Downloading package mac_morpho to /root/nltk_data...\n",
            "[nltk_data]    |   Package mac_morpho is already up-to-date!\n",
            "[nltk_data]    | Downloading package machado to /root/nltk_data...\n",
            "[nltk_data]    |   Package machado is already up-to-date!\n",
            "[nltk_data]    | Downloading package masc_tagged to /root/nltk_data...\n",
            "[nltk_data]    |   Package masc_tagged is already up-to-date!\n",
            "[nltk_data]    | Downloading package maxent_ne_chunker to\n",
            "[nltk_data]    |     /root/nltk_data...\n",
            "[nltk_data]    |   Package maxent_ne_chunker is already up-to-date!\n",
            "[nltk_data]    | Downloading package maxent_treebank_pos_tagger to\n",
            "[nltk_data]    |     /root/nltk_data...\n",
            "[nltk_data]    |   Package maxent_treebank_pos_tagger is already up-\n",
            "[nltk_data]    |       to-date!\n",
            "[nltk_data]    | Downloading package moses_sample to\n",
            "[nltk_data]    |     /root/nltk_data...\n",
            "[nltk_data]    |   Package moses_sample is already up-to-date!\n",
            "[nltk_data]    | Downloading package movie_reviews to\n",
            "[nltk_data]    |     /root/nltk_data...\n",
            "[nltk_data]    |   Package movie_reviews is already up-to-date!\n",
            "[nltk_data]    | Downloading package mte_teip5 to /root/nltk_data...\n",
            "[nltk_data]    |   Package mte_teip5 is already up-to-date!\n",
            "[nltk_data]    | Downloading package mwa_ppdb to /root/nltk_data...\n",
            "[nltk_data]    |   Package mwa_ppdb is already up-to-date!\n",
            "[nltk_data]    | Downloading package names to /root/nltk_data...\n",
            "[nltk_data]    |   Package names is already up-to-date!\n",
            "[nltk_data]    | Downloading package nombank.1.0 to /root/nltk_data...\n",
            "[nltk_data]    |   Package nombank.1.0 is already up-to-date!\n",
            "[nltk_data]    | Downloading package nonbreaking_prefixes to\n",
            "[nltk_data]    |     /root/nltk_data...\n",
            "[nltk_data]    |   Package nonbreaking_prefixes is already up-to-date!\n",
            "[nltk_data]    | Downloading package nps_chat to /root/nltk_data...\n",
            "[nltk_data]    |   Package nps_chat is already up-to-date!\n",
            "[nltk_data]    | Downloading package omw to /root/nltk_data...\n",
            "[nltk_data]    |   Package omw is already up-to-date!\n",
            "[nltk_data]    | Downloading package omw-1.4 to /root/nltk_data...\n",
            "[nltk_data]    |   Package omw-1.4 is already up-to-date!\n",
            "[nltk_data]    | Downloading package opinion_lexicon to\n",
            "[nltk_data]    |     /root/nltk_data...\n",
            "[nltk_data]    |   Package opinion_lexicon is already up-to-date!\n",
            "[nltk_data]    | Downloading package panlex_swadesh to\n",
            "[nltk_data]    |     /root/nltk_data...\n",
            "[nltk_data]    |   Package panlex_swadesh is already up-to-date!\n",
            "[nltk_data]    | Downloading package paradigms to /root/nltk_data...\n",
            "[nltk_data]    |   Package paradigms is already up-to-date!\n",
            "[nltk_data]    | Downloading package pe08 to /root/nltk_data...\n",
            "[nltk_data]    |   Package pe08 is already up-to-date!\n",
            "[nltk_data]    | Downloading package perluniprops to\n",
            "[nltk_data]    |     /root/nltk_data...\n",
            "[nltk_data]    |   Package perluniprops is already up-to-date!\n",
            "[nltk_data]    | Downloading package pil to /root/nltk_data...\n",
            "[nltk_data]    |   Package pil is already up-to-date!\n",
            "[nltk_data]    | Downloading package pl196x to /root/nltk_data...\n",
            "[nltk_data]    |   Package pl196x is already up-to-date!\n",
            "[nltk_data]    | Downloading package porter_test to /root/nltk_data...\n",
            "[nltk_data]    |   Package porter_test is already up-to-date!\n",
            "[nltk_data]    | Downloading package ppattach to /root/nltk_data...\n",
            "[nltk_data]    |   Package ppattach is already up-to-date!\n",
            "[nltk_data]    | Downloading package problem_reports to\n",
            "[nltk_data]    |     /root/nltk_data...\n",
            "[nltk_data]    |   Package problem_reports is already up-to-date!\n",
            "[nltk_data]    | Downloading package product_reviews_1 to\n",
            "[nltk_data]    |     /root/nltk_data...\n",
            "[nltk_data]    |   Package product_reviews_1 is already up-to-date!\n",
            "[nltk_data]    | Downloading package product_reviews_2 to\n",
            "[nltk_data]    |     /root/nltk_data...\n",
            "[nltk_data]    |   Package product_reviews_2 is already up-to-date!\n",
            "[nltk_data]    | Downloading package propbank to /root/nltk_data...\n",
            "[nltk_data]    |   Package propbank is already up-to-date!\n",
            "[nltk_data]    | Downloading package pros_cons to /root/nltk_data...\n",
            "[nltk_data]    |   Package pros_cons is already up-to-date!\n",
            "[nltk_data]    | Downloading package ptb to /root/nltk_data...\n",
            "[nltk_data]    |   Package ptb is already up-to-date!\n",
            "[nltk_data]    | Downloading package punkt to /root/nltk_data...\n",
            "[nltk_data]    |   Package punkt is already up-to-date!\n",
            "[nltk_data]    | Downloading package qc to /root/nltk_data...\n",
            "[nltk_data]    |   Package qc is already up-to-date!\n",
            "[nltk_data]    | Downloading package reuters to /root/nltk_data...\n",
            "[nltk_data]    |   Package reuters is already up-to-date!\n",
            "[nltk_data]    | Downloading package rslp to /root/nltk_data...\n",
            "[nltk_data]    |   Package rslp is already up-to-date!\n",
            "[nltk_data]    | Downloading package rte to /root/nltk_data...\n",
            "[nltk_data]    |   Package rte is already up-to-date!\n",
            "[nltk_data]    | Downloading package sample_grammars to\n",
            "[nltk_data]    |     /root/nltk_data...\n",
            "[nltk_data]    |   Package sample_grammars is already up-to-date!\n",
            "[nltk_data]    | Downloading package semcor to /root/nltk_data...\n",
            "[nltk_data]    |   Package semcor is already up-to-date!\n",
            "[nltk_data]    | Downloading package senseval to /root/nltk_data...\n",
            "[nltk_data]    |   Package senseval is already up-to-date!\n",
            "[nltk_data]    | Downloading package sentence_polarity to\n",
            "[nltk_data]    |     /root/nltk_data...\n",
            "[nltk_data]    |   Package sentence_polarity is already up-to-date!\n",
            "[nltk_data]    | Downloading package sentiwordnet to\n",
            "[nltk_data]    |     /root/nltk_data...\n",
            "[nltk_data]    |   Package sentiwordnet is already up-to-date!\n",
            "[nltk_data]    | Downloading package shakespeare to /root/nltk_data...\n",
            "[nltk_data]    |   Package shakespeare is already up-to-date!\n",
            "[nltk_data]    | Downloading package sinica_treebank to\n",
            "[nltk_data]    |     /root/nltk_data...\n",
            "[nltk_data]    |   Package sinica_treebank is already up-to-date!\n",
            "[nltk_data]    | Downloading package smultron to /root/nltk_data...\n",
            "[nltk_data]    |   Package smultron is already up-to-date!\n",
            "[nltk_data]    | Downloading package snowball_data to\n",
            "[nltk_data]    |     /root/nltk_data...\n",
            "[nltk_data]    |   Package snowball_data is already up-to-date!\n",
            "[nltk_data]    | Downloading package spanish_grammars to\n",
            "[nltk_data]    |     /root/nltk_data...\n",
            "[nltk_data]    |   Package spanish_grammars is already up-to-date!\n",
            "[nltk_data]    | Downloading package state_union to /root/nltk_data...\n",
            "[nltk_data]    |   Package state_union is already up-to-date!\n",
            "[nltk_data]    | Downloading package stopwords to /root/nltk_data...\n",
            "[nltk_data]    |   Package stopwords is already up-to-date!\n",
            "[nltk_data]    | Downloading package subjectivity to\n",
            "[nltk_data]    |     /root/nltk_data...\n",
            "[nltk_data]    |   Package subjectivity is already up-to-date!\n",
            "[nltk_data]    | Downloading package swadesh to /root/nltk_data...\n",
            "[nltk_data]    |   Package swadesh is already up-to-date!\n",
            "[nltk_data]    | Downloading package switchboard to /root/nltk_data...\n",
            "[nltk_data]    |   Package switchboard is already up-to-date!\n",
            "[nltk_data]    | Downloading package tagsets to /root/nltk_data...\n",
            "[nltk_data]    |   Package tagsets is already up-to-date!\n",
            "[nltk_data]    | Downloading package timit to /root/nltk_data...\n",
            "[nltk_data]    |   Package timit is already up-to-date!\n",
            "[nltk_data]    | Downloading package toolbox to /root/nltk_data...\n",
            "[nltk_data]    |   Package toolbox is already up-to-date!\n",
            "[nltk_data]    | Downloading package treebank to /root/nltk_data...\n",
            "[nltk_data]    |   Package treebank is already up-to-date!\n",
            "[nltk_data]    | Downloading package twitter_samples to\n",
            "[nltk_data]    |     /root/nltk_data...\n",
            "[nltk_data]    |   Package twitter_samples is already up-to-date!\n",
            "[nltk_data]    | Downloading package udhr to /root/nltk_data...\n",
            "[nltk_data]    |   Package udhr is already up-to-date!\n",
            "[nltk_data]    | Downloading package udhr2 to /root/nltk_data...\n",
            "[nltk_data]    |   Package udhr2 is already up-to-date!\n",
            "[nltk_data]    | Downloading package unicode_samples to\n",
            "[nltk_data]    |     /root/nltk_data...\n",
            "[nltk_data]    |   Package unicode_samples is already up-to-date!\n",
            "[nltk_data]    | Downloading package universal_tagset to\n",
            "[nltk_data]    |     /root/nltk_data...\n",
            "[nltk_data]    |   Package universal_tagset is already up-to-date!\n",
            "[nltk_data]    | Downloading package universal_treebanks_v20 to\n",
            "[nltk_data]    |     /root/nltk_data...\n",
            "[nltk_data]    |   Package universal_treebanks_v20 is already up-to-\n",
            "[nltk_data]    |       date!\n",
            "[nltk_data]    | Downloading package vader_lexicon to\n",
            "[nltk_data]    |     /root/nltk_data...\n",
            "[nltk_data]    |   Package vader_lexicon is already up-to-date!\n",
            "[nltk_data]    | Downloading package verbnet to /root/nltk_data...\n",
            "[nltk_data]    |   Package verbnet is already up-to-date!\n",
            "[nltk_data]    | Downloading package verbnet3 to /root/nltk_data...\n",
            "[nltk_data]    |   Package verbnet3 is already up-to-date!\n",
            "[nltk_data]    | Downloading package webtext to /root/nltk_data...\n",
            "[nltk_data]    |   Package webtext is already up-to-date!\n",
            "[nltk_data]    | Downloading package wmt15_eval to /root/nltk_data...\n",
            "[nltk_data]    |   Package wmt15_eval is already up-to-date!\n",
            "[nltk_data]    | Downloading package word2vec_sample to\n",
            "[nltk_data]    |     /root/nltk_data...\n",
            "[nltk_data]    |   Package word2vec_sample is already up-to-date!\n",
            "[nltk_data]    | Downloading package wordnet to /root/nltk_data...\n",
            "[nltk_data]    |   Package wordnet is already up-to-date!\n",
            "[nltk_data]    | Downloading package wordnet2021 to /root/nltk_data...\n",
            "[nltk_data]    |   Package wordnet2021 is already up-to-date!\n",
            "[nltk_data]    | Downloading package wordnet31 to /root/nltk_data...\n",
            "[nltk_data]    |   Package wordnet31 is already up-to-date!\n",
            "[nltk_data]    | Downloading package wordnet_ic to /root/nltk_data...\n",
            "[nltk_data]    |   Package wordnet_ic is already up-to-date!\n",
            "[nltk_data]    | Downloading package words to /root/nltk_data...\n",
            "[nltk_data]    |   Package words is already up-to-date!\n",
            "[nltk_data]    | Downloading package ycoe to /root/nltk_data...\n",
            "[nltk_data]    |   Package ycoe is already up-to-date!\n",
            "[nltk_data]    | \n",
            "[nltk_data]  Done downloading collection all\n",
            "[nltk_data] Downloading package punkt to /root/nltk_data...\n",
            "[nltk_data]   Package punkt is already up-to-date!\n",
            "[nltk_data] Downloading package stopwords to /root/nltk_data...\n",
            "[nltk_data]   Package stopwords is already up-to-date!\n"
          ]
        }
      ],
      "source": [
        "import re\n",
        "import pandas as pd\n",
        "import numpy as np\n",
        "import os\n",
        "pd.set_option('display.max_rows',500)\n",
        "import datetime as dt\n",
        "from matplotlib import pyplot as plt\n",
        "%matplotlib inline\n",
        "import seaborn as sns\n",
        "from collections import Counter\n",
        "import string\n",
        "import emoji\n",
        "import warnings\n",
        "warnings.filterwarnings(\"ignore\")\n",
        "\n",
        "from collections import Counter\n",
        "import string\n",
        "import unicodedata\n",
        "import nltk\n",
        "nltk.download('all')\n",
        "nltk.download('punkt')\n",
        "nltk.download('stopwords')\n",
        "from nltk.tokenize import word_tokenize\n",
        "from nltk.corpus import stopwords\n",
        "from sklearn.feature_extraction.text import  TfidfVectorizer \n",
        "from sklearn.decomposition import NMF"
      ]
    },
    {
      "cell_type": "code",
      "source": [
        "path = \"/content/drive/MyDrive/Projects/WhatsApp/WhatsApp Chat with _C.E@2K17-2K21_.txt\"\n",
        "f= open(path,'r', encoding = 'utf-8')\n",
        "# Reeding data in the form of string\n",
        "data = f.read()"
      ],
      "metadata": {
        "id": "DSOgl0sV9w3o"
      },
      "execution_count": 209,
      "outputs": []
    },
    {
      "cell_type": "code",
      "source": [
        "# Preprocessing of whatsapp date to convert it into pandas dataframe\n",
        "def preprocess(data):\n",
        "    pattern = '\\d{1,2}/\\d{1,2}/\\d{2,4},\\s\\d{1,2}:\\d{2}\\s-\\s'\n",
        "\n",
        "    messages = re.split(pattern, data)[1:]\n",
        "    dates = re.findall(pattern, data)\n",
        "\n",
        "    df = pd.DataFrame({'user_message': messages, 'message_date': dates})\n",
        "    # convert message_date type\n",
        "    try :\n",
        "      df['message_date'] = pd.to_datetime(df['message_date'], format='%m/%d/%y, %H:%M - ')\n",
        "    except :\n",
        "      df['message_date'] = pd.to_datetime(df['message_date'], format='%d/%m/%Y, %H:%M - ')\n",
        "\n",
        "    df.rename(columns={'message_date': 'date'}, inplace=True)\n",
        "\n",
        "    users = []\n",
        "    messages = []\n",
        "    for message in df['user_message']:\n",
        "        entry = re.split('([\\w\\W]+?):\\s', message)\n",
        "        if entry[1:]:  # user name\n",
        "            users.append(entry[1])\n",
        "            messages.append(\" \".join(entry[2:]))\n",
        "        else:\n",
        "            users.append('group_notification')\n",
        "            messages.append(entry[0])\n",
        "\n",
        "    df['user'] = users\n",
        "    df['message'] = messages\n",
        "    df.drop(columns=['user_message'], inplace=True)\n",
        "\n",
        "    df['only_date'] = df['date'].dt.date\n",
        "    df['year'] = df['date'].dt.year\n",
        "    df['month_num'] = df['date'].dt.month\n",
        "    df['month'] = df['date'].dt.month_name()\n",
        "    df['day'] = df['date'].dt.day\n",
        "    df['day_name'] = df['date'].dt.day_name()\n",
        "    df['hour'] = df['date'].dt.hour\n",
        "    df['minute'] = df['date'].dt.minute\n",
        "\n",
        "    period = []\n",
        "    for hour in df[['day_name', 'hour']]['hour']:\n",
        "        if hour == 23:\n",
        "            period.append(str(hour) + \"-\" + str('00'))\n",
        "        elif hour == 0:\n",
        "            period.append(str('00') + \"-\" + str(hour + 1))\n",
        "        else:\n",
        "            period.append(str(hour) + \"-\" + str(hour + 1))\n",
        "\n",
        "    df['period'] = period\n",
        "\n",
        "    return df"
      ],
      "metadata": {
        "id": "83FOsCwUBciY"
      },
      "execution_count": 210,
      "outputs": []
    },
    {
      "cell_type": "code",
      "source": [
        "df = preprocess(data)"
      ],
      "metadata": {
        "id": "xkwC34Tx9Py9"
      },
      "execution_count": 211,
      "outputs": []
    },
    {
      "cell_type": "code",
      "source": [
        "df"
      ],
      "metadata": {
        "id": "IoZpr-cdCH51",
        "colab": {
          "base_uri": "https://localhost:8080/",
          "height": 641
        },
        "outputId": "c7cd1fcc-8568-476c-bca4-51ffd2e49cf0"
      },
      "execution_count": 212,
      "outputs": [
        {
          "output_type": "execute_result",
          "data": {
            "text/plain": [
              "                     date                               user  \\\n",
              "0     2018-07-02 21:15:00                 group_notification   \n",
              "1     2018-07-02 21:19:00                 group_notification   \n",
              "2     2018-07-03 09:24:00                 group_notification   \n",
              "3     2018-07-04 20:42:00  17'5 45!-!15!-! @ NIT Dgp | Civil   \n",
              "4     2018-07-04 20:42:00  17'5 45!-!15!-! @ NIT Dgp | Civil   \n",
              "...                   ...                                ...   \n",
              "27771 2021-12-01 16:34:00            Navya @ NIT Dgp | Civil   \n",
              "27772 2021-12-01 17:18:00       Aneek Biswas @ NIT Dgp Civil   \n",
              "27773 2021-12-03 11:42:00             Ritesh @ NIT Dgp Civil   \n",
              "27774 2021-12-03 11:51:00  17'5 45!-!15!-! @ NIT Dgp | Civil   \n",
              "27775 2021-12-03 11:54:00                            Radhika   \n",
              "\n",
              "                                                 message   only_date  year  \\\n",
              "0      Your security code with Mandeep @ NIT Dgp | Ci...  2018-07-02  2018   \n",
              "1      Your security code with Mandeep @ NIT Dgp | Ci...  2018-07-02  2018   \n",
              "2      17'5 45!-!15!-! @ NIT Dgp | Civil joined using...  2018-07-03  2018   \n",
              "3                                      <Media omitted>\\n  2018-07-04  2018   \n",
              "4                                      <Media omitted>\\n  2018-07-04  2018   \n",
              "...                                                  ...         ...   ...   \n",
              "27771                                                😅\\n  2021-12-01  2021   \n",
              "27772                                  <Media omitted>\\n  2021-12-01  2021   \n",
              "27773                 Happy birthday @919453127137  🥳🥳\\n  2021-12-03  2021   \n",
              "27774              Happy Birthday bhai 🎉🎉@919453127137\\n  2021-12-03  2021   \n",
              "27775                 Happy birthday @919453127137 🎂🎂🥳\\n  2021-12-03  2021   \n",
              "\n",
              "       month_num     month  day   day_name  hour  minute period  \n",
              "0              7      July    2     Monday    21      15  21-22  \n",
              "1              7      July    2     Monday    21      19  21-22  \n",
              "2              7      July    3    Tuesday     9      24   9-10  \n",
              "3              7      July    4  Wednesday    20      42  20-21  \n",
              "4              7      July    4  Wednesday    20      42  20-21  \n",
              "...          ...       ...  ...        ...   ...     ...    ...  \n",
              "27771         12  December    1  Wednesday    16      34  16-17  \n",
              "27772         12  December    1  Wednesday    17      18  17-18  \n",
              "27773         12  December    3     Friday    11      42  11-12  \n",
              "27774         12  December    3     Friday    11      51  11-12  \n",
              "27775         12  December    3     Friday    11      54  11-12  \n",
              "\n",
              "[27776 rows x 12 columns]"
            ],
            "text/html": [
              "\n",
              "  <div id=\"df-11041278-5693-484a-a58b-f546303e2e2e\">\n",
              "    <div class=\"colab-df-container\">\n",
              "      <div>\n",
              "<style scoped>\n",
              "    .dataframe tbody tr th:only-of-type {\n",
              "        vertical-align: middle;\n",
              "    }\n",
              "\n",
              "    .dataframe tbody tr th {\n",
              "        vertical-align: top;\n",
              "    }\n",
              "\n",
              "    .dataframe thead th {\n",
              "        text-align: right;\n",
              "    }\n",
              "</style>\n",
              "<table border=\"1\" class=\"dataframe\">\n",
              "  <thead>\n",
              "    <tr style=\"text-align: right;\">\n",
              "      <th></th>\n",
              "      <th>date</th>\n",
              "      <th>user</th>\n",
              "      <th>message</th>\n",
              "      <th>only_date</th>\n",
              "      <th>year</th>\n",
              "      <th>month_num</th>\n",
              "      <th>month</th>\n",
              "      <th>day</th>\n",
              "      <th>day_name</th>\n",
              "      <th>hour</th>\n",
              "      <th>minute</th>\n",
              "      <th>period</th>\n",
              "    </tr>\n",
              "  </thead>\n",
              "  <tbody>\n",
              "    <tr>\n",
              "      <th>0</th>\n",
              "      <td>2018-07-02 21:15:00</td>\n",
              "      <td>group_notification</td>\n",
              "      <td>Your security code with Mandeep @ NIT Dgp | Ci...</td>\n",
              "      <td>2018-07-02</td>\n",
              "      <td>2018</td>\n",
              "      <td>7</td>\n",
              "      <td>July</td>\n",
              "      <td>2</td>\n",
              "      <td>Monday</td>\n",
              "      <td>21</td>\n",
              "      <td>15</td>\n",
              "      <td>21-22</td>\n",
              "    </tr>\n",
              "    <tr>\n",
              "      <th>1</th>\n",
              "      <td>2018-07-02 21:19:00</td>\n",
              "      <td>group_notification</td>\n",
              "      <td>Your security code with Mandeep @ NIT Dgp | Ci...</td>\n",
              "      <td>2018-07-02</td>\n",
              "      <td>2018</td>\n",
              "      <td>7</td>\n",
              "      <td>July</td>\n",
              "      <td>2</td>\n",
              "      <td>Monday</td>\n",
              "      <td>21</td>\n",
              "      <td>19</td>\n",
              "      <td>21-22</td>\n",
              "    </tr>\n",
              "    <tr>\n",
              "      <th>2</th>\n",
              "      <td>2018-07-03 09:24:00</td>\n",
              "      <td>group_notification</td>\n",
              "      <td>17'5 45!-!15!-! @ NIT Dgp | Civil joined using...</td>\n",
              "      <td>2018-07-03</td>\n",
              "      <td>2018</td>\n",
              "      <td>7</td>\n",
              "      <td>July</td>\n",
              "      <td>3</td>\n",
              "      <td>Tuesday</td>\n",
              "      <td>9</td>\n",
              "      <td>24</td>\n",
              "      <td>9-10</td>\n",
              "    </tr>\n",
              "    <tr>\n",
              "      <th>3</th>\n",
              "      <td>2018-07-04 20:42:00</td>\n",
              "      <td>17'5 45!-!15!-! @ NIT Dgp | Civil</td>\n",
              "      <td>&lt;Media omitted&gt;\\n</td>\n",
              "      <td>2018-07-04</td>\n",
              "      <td>2018</td>\n",
              "      <td>7</td>\n",
              "      <td>July</td>\n",
              "      <td>4</td>\n",
              "      <td>Wednesday</td>\n",
              "      <td>20</td>\n",
              "      <td>42</td>\n",
              "      <td>20-21</td>\n",
              "    </tr>\n",
              "    <tr>\n",
              "      <th>4</th>\n",
              "      <td>2018-07-04 20:42:00</td>\n",
              "      <td>17'5 45!-!15!-! @ NIT Dgp | Civil</td>\n",
              "      <td>&lt;Media omitted&gt;\\n</td>\n",
              "      <td>2018-07-04</td>\n",
              "      <td>2018</td>\n",
              "      <td>7</td>\n",
              "      <td>July</td>\n",
              "      <td>4</td>\n",
              "      <td>Wednesday</td>\n",
              "      <td>20</td>\n",
              "      <td>42</td>\n",
              "      <td>20-21</td>\n",
              "    </tr>\n",
              "    <tr>\n",
              "      <th>...</th>\n",
              "      <td>...</td>\n",
              "      <td>...</td>\n",
              "      <td>...</td>\n",
              "      <td>...</td>\n",
              "      <td>...</td>\n",
              "      <td>...</td>\n",
              "      <td>...</td>\n",
              "      <td>...</td>\n",
              "      <td>...</td>\n",
              "      <td>...</td>\n",
              "      <td>...</td>\n",
              "      <td>...</td>\n",
              "    </tr>\n",
              "    <tr>\n",
              "      <th>27771</th>\n",
              "      <td>2021-12-01 16:34:00</td>\n",
              "      <td>Navya @ NIT Dgp | Civil</td>\n",
              "      <td>😅\\n</td>\n",
              "      <td>2021-12-01</td>\n",
              "      <td>2021</td>\n",
              "      <td>12</td>\n",
              "      <td>December</td>\n",
              "      <td>1</td>\n",
              "      <td>Wednesday</td>\n",
              "      <td>16</td>\n",
              "      <td>34</td>\n",
              "      <td>16-17</td>\n",
              "    </tr>\n",
              "    <tr>\n",
              "      <th>27772</th>\n",
              "      <td>2021-12-01 17:18:00</td>\n",
              "      <td>Aneek Biswas @ NIT Dgp Civil</td>\n",
              "      <td>&lt;Media omitted&gt;\\n</td>\n",
              "      <td>2021-12-01</td>\n",
              "      <td>2021</td>\n",
              "      <td>12</td>\n",
              "      <td>December</td>\n",
              "      <td>1</td>\n",
              "      <td>Wednesday</td>\n",
              "      <td>17</td>\n",
              "      <td>18</td>\n",
              "      <td>17-18</td>\n",
              "    </tr>\n",
              "    <tr>\n",
              "      <th>27773</th>\n",
              "      <td>2021-12-03 11:42:00</td>\n",
              "      <td>Ritesh @ NIT Dgp Civil</td>\n",
              "      <td>Happy birthday @919453127137  🥳🥳\\n</td>\n",
              "      <td>2021-12-03</td>\n",
              "      <td>2021</td>\n",
              "      <td>12</td>\n",
              "      <td>December</td>\n",
              "      <td>3</td>\n",
              "      <td>Friday</td>\n",
              "      <td>11</td>\n",
              "      <td>42</td>\n",
              "      <td>11-12</td>\n",
              "    </tr>\n",
              "    <tr>\n",
              "      <th>27774</th>\n",
              "      <td>2021-12-03 11:51:00</td>\n",
              "      <td>17'5 45!-!15!-! @ NIT Dgp | Civil</td>\n",
              "      <td>Happy Birthday bhai 🎉🎉@919453127137\\n</td>\n",
              "      <td>2021-12-03</td>\n",
              "      <td>2021</td>\n",
              "      <td>12</td>\n",
              "      <td>December</td>\n",
              "      <td>3</td>\n",
              "      <td>Friday</td>\n",
              "      <td>11</td>\n",
              "      <td>51</td>\n",
              "      <td>11-12</td>\n",
              "    </tr>\n",
              "    <tr>\n",
              "      <th>27775</th>\n",
              "      <td>2021-12-03 11:54:00</td>\n",
              "      <td>Radhika</td>\n",
              "      <td>Happy birthday @919453127137 🎂🎂🥳\\n</td>\n",
              "      <td>2021-12-03</td>\n",
              "      <td>2021</td>\n",
              "      <td>12</td>\n",
              "      <td>December</td>\n",
              "      <td>3</td>\n",
              "      <td>Friday</td>\n",
              "      <td>11</td>\n",
              "      <td>54</td>\n",
              "      <td>11-12</td>\n",
              "    </tr>\n",
              "  </tbody>\n",
              "</table>\n",
              "<p>27776 rows × 12 columns</p>\n",
              "</div>\n",
              "      <button class=\"colab-df-convert\" onclick=\"convertToInteractive('df-11041278-5693-484a-a58b-f546303e2e2e')\"\n",
              "              title=\"Convert this dataframe to an interactive table.\"\n",
              "              style=\"display:none;\">\n",
              "        \n",
              "  <svg xmlns=\"http://www.w3.org/2000/svg\" height=\"24px\"viewBox=\"0 0 24 24\"\n",
              "       width=\"24px\">\n",
              "    <path d=\"M0 0h24v24H0V0z\" fill=\"none\"/>\n",
              "    <path d=\"M18.56 5.44l.94 2.06.94-2.06 2.06-.94-2.06-.94-.94-2.06-.94 2.06-2.06.94zm-11 1L8.5 8.5l.94-2.06 2.06-.94-2.06-.94L8.5 2.5l-.94 2.06-2.06.94zm10 10l.94 2.06.94-2.06 2.06-.94-2.06-.94-.94-2.06-.94 2.06-2.06.94z\"/><path d=\"M17.41 7.96l-1.37-1.37c-.4-.4-.92-.59-1.43-.59-.52 0-1.04.2-1.43.59L10.3 9.45l-7.72 7.72c-.78.78-.78 2.05 0 2.83L4 21.41c.39.39.9.59 1.41.59.51 0 1.02-.2 1.41-.59l7.78-7.78 2.81-2.81c.8-.78.8-2.07 0-2.86zM5.41 20L4 18.59l7.72-7.72 1.47 1.35L5.41 20z\"/>\n",
              "  </svg>\n",
              "      </button>\n",
              "      \n",
              "  <style>\n",
              "    .colab-df-container {\n",
              "      display:flex;\n",
              "      flex-wrap:wrap;\n",
              "      gap: 12px;\n",
              "    }\n",
              "\n",
              "    .colab-df-convert {\n",
              "      background-color: #E8F0FE;\n",
              "      border: none;\n",
              "      border-radius: 50%;\n",
              "      cursor: pointer;\n",
              "      display: none;\n",
              "      fill: #1967D2;\n",
              "      height: 32px;\n",
              "      padding: 0 0 0 0;\n",
              "      width: 32px;\n",
              "    }\n",
              "\n",
              "    .colab-df-convert:hover {\n",
              "      background-color: #E2EBFA;\n",
              "      box-shadow: 0px 1px 2px rgba(60, 64, 67, 0.3), 0px 1px 3px 1px rgba(60, 64, 67, 0.15);\n",
              "      fill: #174EA6;\n",
              "    }\n",
              "\n",
              "    [theme=dark] .colab-df-convert {\n",
              "      background-color: #3B4455;\n",
              "      fill: #D2E3FC;\n",
              "    }\n",
              "\n",
              "    [theme=dark] .colab-df-convert:hover {\n",
              "      background-color: #434B5C;\n",
              "      box-shadow: 0px 1px 3px 1px rgba(0, 0, 0, 0.15);\n",
              "      filter: drop-shadow(0px 1px 2px rgba(0, 0, 0, 0.3));\n",
              "      fill: #FFFFFF;\n",
              "    }\n",
              "  </style>\n",
              "\n",
              "      <script>\n",
              "        const buttonEl =\n",
              "          document.querySelector('#df-11041278-5693-484a-a58b-f546303e2e2e button.colab-df-convert');\n",
              "        buttonEl.style.display =\n",
              "          google.colab.kernel.accessAllowed ? 'block' : 'none';\n",
              "\n",
              "        async function convertToInteractive(key) {\n",
              "          const element = document.querySelector('#df-11041278-5693-484a-a58b-f546303e2e2e');\n",
              "          const dataTable =\n",
              "            await google.colab.kernel.invokeFunction('convertToInteractive',\n",
              "                                                     [key], {});\n",
              "          if (!dataTable) return;\n",
              "\n",
              "          const docLinkHtml = 'Like what you see? Visit the ' +\n",
              "            '<a target=\"_blank\" href=https://colab.research.google.com/notebooks/data_table.ipynb>data table notebook</a>'\n",
              "            + ' to learn more about interactive tables.';\n",
              "          element.innerHTML = '';\n",
              "          dataTable['output_type'] = 'display_data';\n",
              "          await google.colab.output.renderOutput(dataTable, element);\n",
              "          const docLink = document.createElement('div');\n",
              "          docLink.innerHTML = docLinkHtml;\n",
              "          element.appendChild(docLink);\n",
              "        }\n",
              "      </script>\n",
              "    </div>\n",
              "  </div>\n",
              "  "
            ]
          },
          "metadata": {},
          "execution_count": 212
        }
      ]
    },
    {
      "cell_type": "markdown",
      "source": [
        "## **Sentiment Analysis**"
      ],
      "metadata": {
        "id": "DyD0tTt_xIGH"
      }
    },
    {
      "cell_type": "code",
      "source": [
        "#Sentiment Analysis\n",
        "nltk.download('vader_lexicon')\n",
        "from nltk.sentiment.vader import SentimentIntensityAnalyzer"
      ],
      "metadata": {
        "id": "XWlUOQeeCICY",
        "colab": {
          "base_uri": "https://localhost:8080/"
        },
        "outputId": "37ce4d67-f9dd-4f52-ba9a-8bba7e17fd22"
      },
      "execution_count": 213,
      "outputs": [
        {
          "output_type": "stream",
          "name": "stderr",
          "text": [
            "[nltk_data] Downloading package vader_lexicon to /root/nltk_data...\n",
            "[nltk_data]   Package vader_lexicon is already up-to-date!\n"
          ]
        }
      ]
    },
    {
      "cell_type": "code",
      "source": [
        "vds = SentimentIntensityAnalyzer()\n",
        "#Example\n",
        "print(vds.polarity_scores(\"I think he is bad \"))\n",
        "print(vds.polarity_scores(\"I think he is not that bad \"))\n",
        "print(vds.polarity_scores(\"I think he is good\"))\n",
        "print(vds.polarity_scores(\"I think he is superb\"))"
      ],
      "metadata": {
        "id": "l8owQTbWCIFD",
        "colab": {
          "base_uri": "https://localhost:8080/"
        },
        "outputId": "7df9543a-4fc8-4775-b59d-2742937de173"
      },
      "execution_count": 214,
      "outputs": [
        {
          "output_type": "stream",
          "name": "stdout",
          "text": [
            "{'neg': 0.538, 'neu': 0.462, 'pos': 0.0, 'compound': -0.5423}\n",
            "{'neg': 0.0, 'neu': 0.637, 'pos': 0.363, 'compound': 0.431}\n",
            "{'neg': 0.0, 'neu': 0.508, 'pos': 0.492, 'compound': 0.4404}\n",
            "{'neg': 0.0, 'neu': 0.423, 'pos': 0.577, 'compound': 0.6249}\n"
          ]
        }
      ]
    },
    {
      "cell_type": "code",
      "source": [
        "for index,row in df.iterrows():\n",
        "  negative, neutral, positive,_ = vds.polarity_scores(row['message']).values()\n",
        "  sentiment = (positive-negative)\n",
        "  df.loc[index,'sentiment'] = sentiment"
      ],
      "metadata": {
        "id": "XrOAe_dU9_7x"
      },
      "execution_count": 215,
      "outputs": []
    },
    {
      "cell_type": "code",
      "source": [
        "pos =0\n",
        "neg =0\n",
        "neut =0\n",
        "for index,row in df.iterrows():\n",
        "  if row['sentiment']>0:\n",
        "    pos = pos+1\n",
        "  elif row['sentiment']<0:\n",
        "    neg = neg+1\n",
        "  else:\n",
        "    neut = neut +1\n",
        "print(f\" Positive : {pos} \\n Negative : {neg} \\n Nuetral : {neut}\")"
      ],
      "metadata": {
        "colab": {
          "base_uri": "https://localhost:8080/"
        },
        "id": "AvSBYmPQzvu0",
        "outputId": "9de4503c-9ea0-4dcd-83fd-ef3559673a3b"
      },
      "execution_count": 216,
      "outputs": [
        {
          "output_type": "stream",
          "name": "stdout",
          "text": [
            " Positive : 6147 \n",
            " Negative : 1353 \n",
            " Nuetral : 20276\n"
          ]
        }
      ]
    },
    {
      "cell_type": "markdown",
      "source": [
        "## **Topic Modelling** - **Related to Group Chat of Class**\n",
        "* Topic Modeling is a tool that tries to extract topics from textual documents. A set of documents likely contains multiple topics that might be interesting to the user. A topic is represented by a set of words. For example, a topic might contain the words dog, cat, and horse. Based on these words, it seems that the topic is about animals"
      ],
      "metadata": {
        "id": "v9I94dQa2Yaq"
      }
    },
    {
      "cell_type": "code",
      "source": [
        "#topic modelling\n",
        "\n",
        "def groupby_messages(data,n):\n",
        "    new_data = data.sort_values(by=['date'])\n",
        "    new_data['group'] = new_data.groupby(['date','user']).cumcount()\n",
        "    new_data['group'] = new_data['group'].apply(lambda x: np.floor(x/float(n)))\n",
        "    new_data = new_data.groupby(['date','user','group'])['message'].sum().reset_index()                                \n",
        "    return new_data\n",
        "\n",
        "history_clean = groupby_messages(df,5)"
      ],
      "metadata": {
        "id": "AeswtUfU1_17"
      },
      "execution_count": 217,
      "outputs": []
    },
    {
      "cell_type": "code",
      "source": [
        "# df.groupby(['date','user']).cumcount()\n",
        "# df['user'].value_counts()"
      ],
      "metadata": {
        "id": "B_Usm2Iu7wTG"
      },
      "execution_count": 218,
      "outputs": []
    },
    {
      "cell_type": "code",
      "source": [
        "history_clean['group'].value_counts()"
      ],
      "metadata": {
        "colab": {
          "base_uri": "https://localhost:8080/"
        },
        "id": "nvLmBgxS7aX6",
        "outputId": "7b79c38d-d688-4670-abc3-c9f74543393f"
      },
      "execution_count": 219,
      "outputs": [
        {
          "output_type": "execute_result",
          "data": {
            "text/plain": [
              "0.0    22401\n",
              "1.0       48\n",
              "2.0        9\n",
              "3.0        3\n",
              "4.0        1\n",
              "Name: group, dtype: int64"
            ]
          },
          "metadata": {},
          "execution_count": 219
        }
      ]
    },
    {
      "cell_type": "code",
      "source": [
        "stopwords_hinglish = pd.read_csv(\"/content/drive/MyDrive/Projects/WhatsApp/stop_hinglish.txt\", header = None)\n",
        "stopwords =  []\n",
        "for i in stopwords_hinglish[0]:\n",
        "  stopwords.append(i)"
      ],
      "metadata": {
        "id": "C97_ZBHjGGyX"
      },
      "execution_count": 220,
      "outputs": []
    },
    {
      "cell_type": "code",
      "source": [
        "# stopwords"
      ],
      "metadata": {
        "id": "uNuA1eJ3HDb5"
      },
      "execution_count": 221,
      "outputs": []
    },
    {
      "cell_type": "code",
      "source": [
        "# Delete \" ' '\" in words \n",
        "def elimina_tildes(cadena):\n",
        "    s = ''.join((c for c in unicodedata.normalize('NFD',cadena) if unicodedata.category(c) != 'Mn'))\n",
        "    return s\n",
        "\n",
        "def custom_tokenizer(text):\n",
        "    remove_punct = str.maketrans('', '', string.punctuation)\n",
        "    text = text.translate(remove_punct)\n",
        "    remove_digits = str.maketrans('', '', string.digits)\n",
        "    text = text.lower().translate(remove_digits)\n",
        "    shortword = re.compile(r'\\W*\\b\\w{1,2}\\b')\n",
        "    text = shortword.sub('', text)\n",
        "    text = elimina_tildes(text)\n",
        "    text = re.sub(r'([a-z])\\1+', r'\\1', text)\n",
        "    text = re.sub(r'(ha)[ha]*', 'ha', text)\n",
        "    tokens = word_tokenize(text)\n",
        "    # stop_words = stopwords.words('english')\n",
        "    tokens_stop = [y for y in tokens if y not in stopwords]\n",
        "    return tokens_stop"
      ],
      "metadata": {
        "id": "XZchwGpk7jMl"
      },
      "execution_count": 222,
      "outputs": []
    },
    {
      "cell_type": "markdown",
      "source": [
        "## **NMF:**\n",
        "* NMF uses linear algebra for the creation of topics while LDA is based on probabilistic modeling. Check this post for an in-depth explanation of the model\n",
        "* Non-negative Matrix Factorization is a Linear-algeabreic model, that factors high-dimensional vectors into a low-dimensionality representation. Similar to Principal component analysis (PCA), NMF takes advantage of the fact that the vectors are non-negative. By factoring them into the lower-dimensional form, NMF forces the coefficients to also be non-negative\n",
        "Given the original matrix A, we can obtain two matrices W and H, such that A= WH. NMF has an inherent clustering property, such that W and H represent the following information about A:\n",
        "\n",
        "* A (Document-word matrix) — input that contains which words appear in which documents\n",
        "* W (Basis vectors) — the topics (clusters) discovered from the documents\n",
        "* H (Coefficient matrix) — the membership weights for the topics in each document"
      ],
      "metadata": {
        "id": "An7bdWWzCL34"
      }
    },
    {
      "cell_type": "code",
      "source": [
        "def run_NMF_model(data,max_df,n_components):\n",
        "    tfidf = TfidfVectorizer(tokenizer=custom_tokenizer,max_df=max_df,min_df = 100) \n",
        "    X = tfidf.fit_transform(data)       \n",
        "    nmf = NMF(n_components=n_components,random_state=0)\n",
        "    doc_topics = nmf.fit_transform(X)\n",
        "    t = np.argmax(doc_topics,axis=1)\n",
        "    counts = pd.Series(t).value_counts()\n",
        "    d = nmf.components_\n",
        "    w = tfidf.get_feature_names()\n",
        "    words = []\n",
        "    for r in range(len(d)):\n",
        "        a = sorted([(v,i) for i,v in enumerate(d[r])],reverse=True)[0:20]\n",
        "        words.append([w[e[1]] for e in a])\n",
        "    return doc_topics, t, words"
      ],
      "metadata": {
        "id": "G3xAcSiW8J2v"
      },
      "execution_count": 223,
      "outputs": []
    },
    {
      "cell_type": "code",
      "source": [
        "doc_topics, t, words = run_NMF_model(df['message'],0.5,5)"
      ],
      "metadata": {
        "id": "KZ4-_lq4APC4"
      },
      "execution_count": 224,
      "outputs": []
    },
    {
      "cell_type": "code",
      "source": [
        "t = np.argmax(doc_topics,axis=1)\n",
        "plt.bar(pd.Series(t).unique(),pd.Series(t).value_counts())"
      ],
      "metadata": {
        "colab": {
          "base_uri": "https://localhost:8080/",
          "height": 282
        },
        "id": "5yaFhDKtaza3",
        "outputId": "7d866034-f055-42fe-f423-b22cc866dd61"
      },
      "execution_count": 225,
      "outputs": [
        {
          "output_type": "execute_result",
          "data": {
            "text/plain": [
              "<BarContainer object of 5 artists>"
            ]
          },
          "metadata": {},
          "execution_count": 225
        },
        {
          "output_type": "display_data",
          "data": {
            "text/plain": [
              "<Figure size 432x288 with 1 Axes>"
            ],
            "image/png": "[encoded data removed]"
          },
          "metadata": {
            "needs_background": "light"
          }
        }
      ]
    },
    {
      "cell_type": "code",
      "source": [
        "groups = ['College Related Discussion', 'Birthday Wishes', 'Tension','Extra Class Discussion','Good Wishes']\n",
        "classification = pd.DataFrame({\"topic\":range(5),\"classification\":groups, 'words':words})\n",
        "classification"
      ],
      "metadata": {
        "colab": {
          "base_uri": "https://localhost:8080/",
          "height": 206
        },
        "id": "X8WwkMrza7Ed",
        "outputId": "40f8a0f8-8cd2-4667-910b-1e65d19b356d"
      },
      "execution_count": 226,
      "outputs": [
        {
          "output_type": "execute_result",
          "data": {
            "text/plain": [
              "   topic              classification  \\\n",
              "0      0  College Related Discussion   \n",
              "1      1             Birthday Wishes   \n",
              "2      2                     Tension   \n",
              "3      3      Extra Class Discussion   \n",
              "4      4                 Good Wishes   \n",
              "\n",
              "                                               words  \n",
              "0  [omited, media, aj, akb, dsr, form, fil, stude...  \n",
              "1  [hapy, birthday, 🎂, bday, year, sourav, al, ci...  \n",
              "2  [mesage, deleted, changed, tap, nit, civil, dg...  \n",
              "3  [clas, wil, aj, extra, tomorow, today, lab, li...  \n",
              "4  [congratulations, al, civil, wil, nit, dgp, ch...  "
            ],
            "text/html": [
              "\n",
              "  <div id=\"df-64459654-8856-405d-802b-34d23d58813c\">\n",
              "    <div class=\"colab-df-container\">\n",
              "      <div>\n",
              "<style scoped>\n",
              "    .dataframe tbody tr th:only-of-type {\n",
              "        vertical-align: middle;\n",
              "    }\n",
              "\n",
              "    .dataframe tbody tr th {\n",
              "        vertical-align: top;\n",
              "    }\n",
              "\n",
              "    .dataframe thead th {\n",
              "        text-align: right;\n",
              "    }\n",
              "</style>\n",
              "<table border=\"1\" class=\"dataframe\">\n",
              "  <thead>\n",
              "    <tr style=\"text-align: right;\">\n",
              "      <th></th>\n",
              "      <th>topic</th>\n",
              "      <th>classification</th>\n",
              "      <th>words</th>\n",
              "    </tr>\n",
              "  </thead>\n",
              "  <tbody>\n",
              "    <tr>\n",
              "      <th>0</th>\n",
              "      <td>0</td>\n",
              "      <td>College Related Discussion</td>\n",
              "      <td>[omited, media, aj, akb, dsr, form, fil, stude...</td>\n",
              "    </tr>\n",
              "    <tr>\n",
              "      <th>1</th>\n",
              "      <td>1</td>\n",
              "      <td>Birthday Wishes</td>\n",
              "      <td>[hapy, birthday, 🎂, bday, year, sourav, al, ci...</td>\n",
              "    </tr>\n",
              "    <tr>\n",
              "      <th>2</th>\n",
              "      <td>2</td>\n",
              "      <td>Tension</td>\n",
              "      <td>[mesage, deleted, changed, tap, nit, civil, dg...</td>\n",
              "    </tr>\n",
              "    <tr>\n",
              "      <th>3</th>\n",
              "      <td>3</td>\n",
              "      <td>Extra Class Discussion</td>\n",
              "      <td>[clas, wil, aj, extra, tomorow, today, lab, li...</td>\n",
              "    </tr>\n",
              "    <tr>\n",
              "      <th>4</th>\n",
              "      <td>4</td>\n",
              "      <td>Good Wishes</td>\n",
              "      <td>[congratulations, al, civil, wil, nit, dgp, ch...</td>\n",
              "    </tr>\n",
              "  </tbody>\n",
              "</table>\n",
              "</div>\n",
              "      <button class=\"colab-df-convert\" onclick=\"convertToInteractive('df-64459654-8856-405d-802b-34d23d58813c')\"\n",
              "              title=\"Convert this dataframe to an interactive table.\"\n",
              "              style=\"display:none;\">\n",
              "        \n",
              "  <svg xmlns=\"http://www.w3.org/2000/svg\" height=\"24px\"viewBox=\"0 0 24 24\"\n",
              "       width=\"24px\">\n",
              "    <path d=\"M0 0h24v24H0V0z\" fill=\"none\"/>\n",
              "    <path d=\"M18.56 5.44l.94 2.06.94-2.06 2.06-.94-2.06-.94-.94-2.06-.94 2.06-2.06.94zm-11 1L8.5 8.5l.94-2.06 2.06-.94-2.06-.94L8.5 2.5l-.94 2.06-2.06.94zm10 10l.94 2.06.94-2.06 2.06-.94-2.06-.94-.94-2.06-.94 2.06-2.06.94z\"/><path d=\"M17.41 7.96l-1.37-1.37c-.4-.4-.92-.59-1.43-.59-.52 0-1.04.2-1.43.59L10.3 9.45l-7.72 7.72c-.78.78-.78 2.05 0 2.83L4 21.41c.39.39.9.59 1.41.59.51 0 1.02-.2 1.41-.59l7.78-7.78 2.81-2.81c.8-.78.8-2.07 0-2.86zM5.41 20L4 18.59l7.72-7.72 1.47 1.35L5.41 20z\"/>\n",
              "  </svg>\n",
              "      </button>\n",
              "      \n",
              "  <style>\n",
              "    .colab-df-container {\n",
              "      display:flex;\n",
              "      flex-wrap:wrap;\n",
              "      gap: 12px;\n",
              "    }\n",
              "\n",
              "    .colab-df-convert {\n",
              "      background-color: #E8F0FE;\n",
              "      border: none;\n",
              "      border-radius: 50%;\n",
              "      cursor: pointer;\n",
              "      display: none;\n",
              "      fill: #1967D2;\n",
              "      height: 32px;\n",
              "      padding: 0 0 0 0;\n",
              "      width: 32px;\n",
              "    }\n",
              "\n",
              "    .colab-df-convert:hover {\n",
              "      background-color: #E2EBFA;\n",
              "      box-shadow: 0px 1px 2px rgba(60, 64, 67, 0.3), 0px 1px 3px 1px rgba(60, 64, 67, 0.15);\n",
              "      fill: #174EA6;\n",
              "    }\n",
              "\n",
              "    [theme=dark] .colab-df-convert {\n",
              "      background-color: #3B4455;\n",
              "      fill: #D2E3FC;\n",
              "    }\n",
              "\n",
              "    [theme=dark] .colab-df-convert:hover {\n",
              "      background-color: #434B5C;\n",
              "      box-shadow: 0px 1px 3px 1px rgba(0, 0, 0, 0.15);\n",
              "      filter: drop-shadow(0px 1px 2px rgba(0, 0, 0, 0.3));\n",
              "      fill: #FFFFFF;\n",
              "    }\n",
              "  </style>\n",
              "\n",
              "      <script>\n",
              "        const buttonEl =\n",
              "          document.querySelector('#df-64459654-8856-405d-802b-34d23d58813c button.colab-df-convert');\n",
              "        buttonEl.style.display =\n",
              "          google.colab.kernel.accessAllowed ? 'block' : 'none';\n",
              "\n",
              "        async function convertToInteractive(key) {\n",
              "          const element = document.querySelector('#df-64459654-8856-405d-802b-34d23d58813c');\n",
              "          const dataTable =\n",
              "            await google.colab.kernel.invokeFunction('convertToInteractive',\n",
              "                                                     [key], {});\n",
              "          if (!dataTable) return;\n",
              "\n",
              "          const docLinkHtml = 'Like what you see? Visit the ' +\n",
              "            '<a target=\"_blank\" href=https://colab.research.google.com/notebooks/data_table.ipynb>data table notebook</a>'\n",
              "            + ' to learn more about interactive tables.';\n",
              "          element.innerHTML = '';\n",
              "          dataTable['output_type'] = 'display_data';\n",
              "          await google.colab.output.renderOutput(dataTable, element);\n",
              "          const docLink = document.createElement('div');\n",
              "          docLink.innerHTML = docLinkHtml;\n",
              "          element.appendChild(docLink);\n",
              "        }\n",
              "      </script>\n",
              "    </div>\n",
              "  </div>\n",
              "  "
            ]
          },
          "metadata": {},
          "execution_count": 226
        }
      ]
    },
    {
      "cell_type": "code",
      "source": [
        "model1 = df\n",
        "model1['topic'] = t\n",
        "model1['sent'] = model1['user'].apply(lambda x: 'sent' if x=='Lai' else 'received')\n",
        "model1 = model1.merge(classification,on='topic')\n",
        "model1['classification'].value_counts()"
      ],
      "metadata": {
        "colab": {
          "base_uri": "https://localhost:8080/"
        },
        "id": "u3NLh_2jEK2M",
        "outputId": "10ec959a-b077-4847-c52d-2b1e5a4c069e"
      },
      "execution_count": 227,
      "outputs": [
        {
          "output_type": "execute_result",
          "data": {
            "text/plain": [
              "College Related Discussion    16239\n",
              "Extra Class Discussion         6783\n",
              "Birthday Wishes                2430\n",
              "Good Wishes                    1199\n",
              "Tension                        1125\n",
              "Name: classification, dtype: int64"
            ]
          },
          "metadata": {},
          "execution_count": 227
        }
      ]
    },
    {
      "cell_type": "markdown",
      "source": [
        "## **Personal Chat Analsyis**"
      ],
      "metadata": {
        "id": "aI6WScH4jG53"
      }
    },
    {
      "cell_type": "code",
      "source": [
        "df_personal = df[df['user'] == 'Subhash Dixit']"
      ],
      "metadata": {
        "id": "2jIqOFBzjHCF"
      },
      "execution_count": 231,
      "outputs": []
    },
    {
      "cell_type": "code",
      "source": [
        "#Message plot\n",
        "plt.figure(figsize=(25,8))\n",
        "df_personal.groupby(['date']).count()['message'].plot()"
      ],
      "metadata": {
        "colab": {
          "base_uri": "https://localhost:8080/",
          "height": 433
        },
        "id": "vhbr-R0AjR0W",
        "outputId": "cd2a4147-86d7-41f7-828f-b6891ba83f6d"
      },
      "execution_count": 234,
      "outputs": [
        {
          "output_type": "execute_result",
          "data": {
            "text/plain": [
              "<matplotlib.axes._subplots.AxesSubplot at 0x7f91d4186cd0>"
            ]
          },
          "metadata": {},
          "execution_count": 234
        },
        {
          "output_type": "display_data",
          "data": {
            "text/plain": [
              "<Figure size 1800x576 with 1 Axes>"
            ],
            "image/png": "[encoded data removed]"
          },
          "metadata": {
            "needs_background": "light"
          }
        }
      ]
    },
    {
      "cell_type": "code",
      "source": [
        "df_personal['message_length'] = df_personal['message'].apply(lambda x : len(x))"
      ],
      "metadata": {
        "id": "MQqR0zdhj34K"
      },
      "execution_count": 236,
      "outputs": []
    },
    {
      "cell_type": "code",
      "source": [
        "# Message length plot \n",
        "plt.figure(figsize=(25,8))\n",
        "df_personal.groupby(['date'])['message_length'].mean().plot()"
      ],
      "metadata": {
        "colab": {
          "base_uri": "https://localhost:8080/",
          "height": 430
        },
        "id": "meIvG0sLjw1k",
        "outputId": "0937370b-438f-4144-f58d-2d08a3350d43"
      },
      "execution_count": 237,
      "outputs": [
        {
          "output_type": "execute_result",
          "data": {
            "text/plain": [
              "<matplotlib.axes._subplots.AxesSubplot at 0x7f91d469e700>"
            ]
          },
          "metadata": {},
          "execution_count": 237
        },
        {
          "output_type": "display_data",
          "data": {
            "text/plain": [
              "<Figure size 1800x576 with 1 Axes>"
            ],
            "image/png": "[encoded data removed]"
          },
          "metadata": {
            "needs_background": "light"
          }
        }
      ]
    },
    {
      "cell_type": "code",
      "source": [
        "# Maximum length message\n",
        "df_personal[df_personal['message_length'] == df_personal['message_length'].max()]['message'].values"
      ],
      "metadata": {
        "colab": {
          "base_uri": "https://localhost:8080/"
        },
        "id": "m4Okoauijl4v",
        "outputId": "af0802e2-bb79-45f6-833d-aebc3fa556f3"
      },
      "execution_count": 238,
      "outputs": [
        {
          "output_type": "execute_result",
          "data": {
            "text/plain": [
              "array(['Shedding some light on yesterday\\'s *\" THE FULL TRUTH\"* note, we present to you the unequivocal truth and not the moulded version. Our team has confirmed with the officialdom that no such solemn notice was sent to the vendors and students cannot elude college authorities and negotiate directly with the vendors about extending their timings.\\n*So, whatever the air was about yesterday\\'s note, is a complete fake; A BLUFF!*\\nOur team has been very effective in convincing the college officials to allow the Hall-5 Cafeteria and the Wonder Cafe to serve till late at night to satiate the midnight appetite. The official notice is on its way and will be exercised in a day or two! We are operating while abiding by the \"SYSTEM\" and so our results are rock solid and not just mere words.\\nAnother exciting news is that our team has worked for the *Room to Room delivery service for Zomato, Pizza hut and Dominos*,  which was not possible earlier. Zomato, which is so indispensable for the students, will be delivering directly to the room and the students won\\'t have to go all the way to the MAIN GATE. The decisions are made by the college officials and the functioning will start in a few days!\\nThere are a couple more things in the pipeline which cannot be conspicuously projected so as to avoid credit theft by others!!!\\n\\nSincerely,\\nAtul Anand +91-7631151384\\nRohit Kumar Matcha +91-7044719179\\nArpit Kr Tripathi +91-8172060505\\n'],\n",
              "      dtype=object)"
            ]
          },
          "metadata": {},
          "execution_count": 238
        }
      ]
    },
    {
      "cell_type": "code",
      "source": [
        "# Weekday message count\n",
        "df_personal['day'] = df_personal['date'].dt.day_name()\n",
        "date_month_day = df_personal['day'].value_counts()\n",
        "date_month_day.sort_index()\n",
        "# Weekday Message plot \n",
        "plt.figure(figsize=(25,8))\n",
        "sns.scatterplot(date_month_day.index,date_month_day)"
      ],
      "metadata": {
        "colab": {
          "base_uri": "https://localhost:8080/",
          "height": 434
        },
        "id": "1-u22HHvkaJu",
        "outputId": "ae02342d-1691-41f1-f938-87bcda42bccd"
      },
      "execution_count": 247,
      "outputs": [
        {
          "output_type": "execute_result",
          "data": {
            "text/plain": [
              "<matplotlib.axes._subplots.AxesSubplot at 0x7f91d4544bb0>"
            ]
          },
          "metadata": {},
          "execution_count": 247
        },
        {
          "output_type": "display_data",
          "data": {
            "text/plain": [
              "<Figure size 1800x576 with 1 Axes>"
            ],
            "image/png": "[encoded data removed]"
          },
          "metadata": {
            "needs_background": "light"
          }
        }
      ]
    },
    {
      "cell_type": "code",
      "source": [
        "#  Hour message count\n",
        "df_personal['datehour'] = df_personal['date'].dt.hour\n",
        "date_month_hour = df_personal['datehour'].value_counts()\n",
        "# date_month_hour.sort_index()\n",
        "# Hour length plot \n",
        "plt.figure(figsize=(25,8))\n",
        "sns.scatterplot(date_month_hour.index,date_month_hour)"
      ],
      "metadata": {
        "colab": {
          "base_uri": "https://localhost:8080/",
          "height": 435
        },
        "id": "zMTBcT0QqA5m",
        "outputId": "ccecd747-d344-4942-b6c7-edaae85ffca8"
      },
      "execution_count": 246,
      "outputs": [
        {
          "output_type": "execute_result",
          "data": {
            "text/plain": [
              "<matplotlib.axes._subplots.AxesSubplot at 0x7f91d120c940>"
            ]
          },
          "metadata": {},
          "execution_count": 246
        },
        {
          "output_type": "display_data",
          "data": {
            "text/plain": [
              "<Figure size 1800x576 with 1 Axes>"
            ],
            "image/png": "[encoded data removed]"
          },
          "metadata": {
            "needs_background": "light"
          }
        }
      ]
    },
    {
      "cell_type": "code",
      "source": [
        "#  Month message count\n",
        "df_personal['datemonth'] = df_personal['date'].dt.month\n",
        "date_month_sorted = df_personal['datemonth'].value_counts()\n",
        "date_month_sorted.sort_index()\n",
        "# Month length plot \n",
        "plt.figure(figsize=(25,8))\n",
        "sns.scatterplot(date_month_sorted.index,date_month_sorted)"
      ],
      "metadata": {
        "colab": {
          "base_uri": "https://localhost:8080/",
          "height": 434
        },
        "id": "wg3U1gGJqJLP",
        "outputId": "76e62d8a-6712-4c17-a4e2-420d1f5a3829"
      },
      "execution_count": 248,
      "outputs": [
        {
          "output_type": "execute_result",
          "data": {
            "text/plain": [
              "<matplotlib.axes._subplots.AxesSubplot at 0x7f91d0ee1880>"
            ]
          },
          "metadata": {},
          "execution_count": 248
        },
        {
          "output_type": "display_data",
          "data": {
            "text/plain": [
              "<Figure size 1800x576 with 1 Axes>"
            ],
            "image/png": "[encoded data removed]"
          },
          "metadata": {
            "needs_background": "light"
          }
        }
      ]
    }
  ]
}